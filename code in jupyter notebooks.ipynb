{
 "cells": [
  {
   "cell_type": "markdown",
   "metadata": {},
   "source": [
    "# Python"
   ]
  },
  {
   "cell_type": "code",
   "execution_count": null,
   "metadata": {},
   "outputs": [],
   "source": [
    "import random\n",
    "print(\"hello world\\n\")\n",
    "for i in range(15):\n",
    "    print(\"*\" * (random.randint(1,10)))"
   ]
  },
  {
   "cell_type": "markdown",
   "metadata": {},
   "source": [
    "# HTML"
   ]
  },
  {
   "cell_type": "code",
   "execution_count": null,
   "metadata": {},
   "outputs": [],
   "source": [
    "%%html\n",
    "<h1>This is an HTML cell</h1>\n",
    "<p>the \"%%html\" at the start of the cell tells jupyter notebooks that this cell should be processed as a html document.</p>\n",
    "<p>that means we can insert any and all html elements, such as:</p><br><br>\n",
    "<img\n",
    "style=\"float: left;\"\n",
    "height=\"250\" width=\"250\"\n",
    "src=\"https://thebakermama.com/wp-content/uploads/2018/08/fullsizeoutput_15a7c.jpg\">\n",
    "<iframe\n",
    "style=\"float: right;\"\n",
    "width=\"560\" height=\"315\"\n",
    "src=\"https://www.youtube.com/embed/HW29067qVWk\"\n",
    "allowfullscreen>"
   ]
  },
  {
   "cell_type": "markdown",
   "metadata": {},
   "source": [
    "# Markdown"
   ]
  },
  {
   "cell_type": "markdown",
   "metadata": {},
   "source": [
    "# h1\n",
    "\n",
    "## h2\n",
    "\n",
    "### h3\n",
    "\n",
    "#### h4\n",
    "\n",
    "##### h5\n",
    "\n",
    "###### h6\n",
    "\n",
    "normal text\n",
    "\n",
    "* bullet point\n",
    "\n",
    "*italic text*\n",
    "\n",
    "**bold text**"
   ]
  },
  {
   "cell_type": "markdown",
   "metadata": {},
   "source": [
    "# CMD"
   ]
  },
  {
   "cell_type": "code",
   "execution_count": null,
   "metadata": {},
   "outputs": [],
   "source": [
    "!dir"
   ]
  },
  {
   "cell_type": "markdown",
   "metadata": {},
   "source": [
    "# Magic"
   ]
  },
  {
   "cell_type": "code",
   "execution_count": null,
   "metadata": {},
   "outputs": [],
   "source": [
    "%pastebin 1"
   ]
  }
 ],
 "metadata": {
  "kernelspec": {
   "display_name": "Python 3",
   "language": "python",
   "name": "python3"
  },
  "language_info": {
   "codemirror_mode": {
    "name": "ipython",
    "version": 3
   },
   "file_extension": ".py",
   "mimetype": "text/x-python",
   "name": "python",
   "nbconvert_exporter": "python",
   "pygments_lexer": "ipython3",
   "version": "3.7.0"
  }
 },
 "nbformat": 4,
 "nbformat_minor": 2
}
