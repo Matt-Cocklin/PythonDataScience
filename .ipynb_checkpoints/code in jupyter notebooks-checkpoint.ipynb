{
 "cells": [
  {
   "cell_type": "markdown",
   "metadata": {},
   "source": [
    "# Python"
   ]
  },
  {
   "cell_type": "code",
   "execution_count": 1,
   "metadata": {
    "collapsed": true
   },
   "outputs": [
    {
     "name": "stdout",
     "output_type": "stream",
     "text": [
      "hello world\n",
      "\n",
      "******\n",
      "**\n",
      "*****\n",
      "**\n",
      "********\n",
      "*\n",
      "*\n",
      "****\n",
      "*****\n",
      "********\n",
      "**********\n",
      "*\n",
      "******\n",
      "**********\n",
      "*********\n"
     ]
    }
   ],
   "source": [
    "import random\n",
    "print(\"hello world\\n\")\n",
    "for i in range(15):\n",
    "    print(\"*\" * (random.randint(1,10)))"
   ]
  },
  {
   "cell_type": "markdown",
   "metadata": {},
   "source": [
    "# HTML"
   ]
  },
  {
   "cell_type": "code",
   "execution_count": 2,
   "metadata": {
    "collapsed": true
   },
   "outputs": [
    {
     "data": {
      "text/html": [
       "<h1>This is an HTML cell</h1>\n",
       "<p>the \"%%html\" at the start of the cell tells jupyter notebooks that this cell should be processed as a html document.</p>\n",
       "<p>that means we can insert any and all html elements, such as:</p><br><br>\n",
       "<img\n",
       "style=\"float: left;\"\n",
       "height=\"250\" width=\"250\"\n",
       "src=\"https://thebakermama.com/wp-content/uploads/2018/08/fullsizeoutput_15a7c.jpg\">\n",
       "<iframe\n",
       "style=\"float: right;\"\n",
       "width=\"560\" height=\"315\"\n",
       "src=\"https://www.youtube.com/embed/HW29067qVWk\"\n",
       "allowfullscreen>\n"
      ],
      "text/plain": [
       "<IPython.core.display.HTML object>"
      ]
     },
     "metadata": {},
     "output_type": "display_data"
    }
   ],
   "source": [
    "%%html\n",
    "<h1>This is an HTML cell</h1>\n",
    "<p>the \"%%html\" at the start of the cell tells jupyter notebooks that this cell should be processed as a html document.</p>\n",
    "<p>that means we can insert any and all html elements, such as:</p><br><br>\n",
    "<img\n",
    "style=\"float: left;\"\n",
    "height=\"250\" width=\"250\"\n",
    "src=\"https://thebakermama.com/wp-content/uploads/2018/08/fullsizeoutput_15a7c.jpg\">\n",
    "<iframe\n",
    "style=\"float: right;\"\n",
    "width=\"560\" height=\"315\"\n",
    "src=\"https://www.youtube.com/embed/HW29067qVWk\"\n",
    "allowfullscreen>"
   ]
  },
  {
   "cell_type": "markdown",
   "metadata": {},
   "source": [
    "# Markdown"
   ]
  },
  {
   "cell_type": "markdown",
   "metadata": {},
   "source": [
    "# h1\n",
    "\n",
    "## h2\n",
    "\n",
    "### h3\n",
    "\n",
    "#### h4\n",
    "\n",
    "##### h5\n",
    "\n",
    "###### h6\n",
    "\n",
    "normal text\n",
    "\n",
    "* bullet point\n",
    "\n",
    "*italic text*\n",
    "\n",
    "**bold text**"
   ]
  },
  {
   "cell_type": "markdown",
   "metadata": {},
   "source": [
    "# CMD"
   ]
  },
  {
   "cell_type": "code",
   "execution_count": 3,
   "metadata": {
    "collapsed": true
   },
   "outputs": [
    {
     "name": "stdout",
     "output_type": "stream",
     "text": [
      " Volume in drive C has no label.\n",
      " Volume Serial Number is 64BB-28FA\n",
      "\n",
      " Directory of C:\\Users\\Matthew\\Documents\\python data science\n",
      "\n",
      "23/11/2018  20:44    <DIR>          .\n",
      "23/11/2018  20:44    <DIR>          ..\n",
      "23/11/2018  19:31    <DIR>          .ipynb_checkpoints\n",
      "23/11/2018  20:40            83,640 Bitcoin Data Science.ipynb\n",
      "23/11/2018  20:44             2,082 code in jupyter notebooks.ipynb\n",
      "23/11/2018  20:01            78,967 Gdax_BTCGBP_d.csv\n",
      "23/11/2018  20:33               799 Intro.ipynb\n",
      "22/11/2018  13:18            51,747 notebook.tex\n",
      "               5 File(s)        217,235 bytes\n",
      "               3 Dir(s)  528,755,048,448 bytes free\n"
     ]
    }
   ],
   "source": [
    "!dir"
   ]
  },
  {
   "cell_type": "markdown",
   "metadata": {},
   "source": [
    "# Magic"
   ]
  },
  {
   "cell_type": "code",
   "execution_count": 4,
   "metadata": {},
   "outputs": [
    {
     "data": {
      "text/plain": [
       "'http://dpaste.com/3DRCVP4'"
      ]
     },
     "execution_count": 4,
     "metadata": {},
     "output_type": "execute_result"
    }
   ],
   "source": [
    "%pastebin 1"
   ]
  }
 ],
 "metadata": {
  "kernelspec": {
   "display_name": "Python 3",
   "language": "python",
   "name": "python3"
  },
  "language_info": {
   "codemirror_mode": {
    "name": "ipython",
    "version": 3
   },
   "file_extension": ".py",
   "mimetype": "text/x-python",
   "name": "python",
   "nbconvert_exporter": "python",
   "pygments_lexer": "ipython3",
   "version": "3.7.1"
  }
 },
 "nbformat": 4,
 "nbformat_minor": 2
}
